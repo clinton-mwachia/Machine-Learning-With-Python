{
 "cells": [
  {
   "cell_type": "markdown",
   "id": "fa54c50b",
   "metadata": {},
   "source": [
    "1.0 Loading the Libraries"
   ]
  },
  {
   "cell_type": "code",
   "execution_count": 10,
   "id": "ff3d461f",
   "metadata": {},
   "outputs": [],
   "source": [
    "from sklearn.linear_model import LinearRegression\n",
    "from sklearn.metrics import mean_squared_error, r2_score\n",
    "import matplotlib.pyplot as plt\n",
    "import numpy as np\n",
    "import pandas as pd"
   ]
  },
  {
   "cell_type": "markdown",
   "id": "822b7d65",
   "metadata": {},
   "source": [
    "2.0 The Data"
   ]
  },
  {
   "cell_type": "code",
   "execution_count": 5,
   "id": "67202120",
   "metadata": {},
   "outputs": [],
   "source": [
    "data = {\n",
    "    'x1': [1,2,3,5,6,7,9,13,15,20],\n",
    "    'x2': [10,20,30,50,60,70,90,130,150,200]\n",
    "}\n",
    "x = pd.DataFrame(data)\n",
    "y = np.array([2,3,4,6,6,7,8,10,12,13])"
   ]
  },
  {
   "cell_type": "code",
   "execution_count": 7,
   "id": "0e534e46",
   "metadata": {},
   "outputs": [
    {
     "data": {
      "text/plain": [
       "array([ 2,  3,  4,  6,  6,  7,  8, 10, 12, 13])"
      ]
     },
     "execution_count": 7,
     "metadata": {},
     "output_type": "execute_result"
    }
   ],
   "source": [
    "y"
   ]
  },
  {
   "cell_type": "markdown",
   "id": "b9245f22",
   "metadata": {},
   "source": [
    "3.0 The Model"
   ]
  },
  {
   "cell_type": "code",
   "execution_count": 8,
   "id": "13024bef",
   "metadata": {},
   "outputs": [
    {
     "data": {
      "text/plain": [
       "LinearRegression()"
      ]
     },
     "execution_count": 8,
     "metadata": {},
     "output_type": "execute_result"
    }
   ],
   "source": [
    "lr_model = LinearRegression()\n",
    "\n",
    "fit = lr_model.fit(x,y)\n",
    "fit"
   ]
  },
  {
   "cell_type": "code",
   "execution_count": 9,
   "id": "6e88a610",
   "metadata": {},
   "outputs": [
    {
     "data": {
      "text/plain": [
       "array([ 2.91951006,  3.50831146,  4.09711286,  5.27471566,  5.86351706,\n",
       "        6.45231846,  7.62992126,  9.98512686, 11.16272966, 14.10673666])"
      ]
     },
     "execution_count": 9,
     "metadata": {},
     "output_type": "execute_result"
    }
   ],
   "source": [
    "pred = fit.predict(x)\n",
    "pred"
   ]
  },
  {
   "cell_type": "markdown",
   "id": "97d93add",
   "metadata": {},
   "source": [
    "4.0 Comparison of actual and predicted"
   ]
  },
  {
   "cell_type": "code",
   "execution_count": 11,
   "id": "f6281584",
   "metadata": {},
   "outputs": [
    {
     "data": {
      "text/html": [
       "<div>\n",
       "<style scoped>\n",
       "    .dataframe tbody tr th:only-of-type {\n",
       "        vertical-align: middle;\n",
       "    }\n",
       "\n",
       "    .dataframe tbody tr th {\n",
       "        vertical-align: top;\n",
       "    }\n",
       "\n",
       "    .dataframe thead th {\n",
       "        text-align: right;\n",
       "    }\n",
       "</style>\n",
       "<table border=\"1\" class=\"dataframe\">\n",
       "  <thead>\n",
       "    <tr style=\"text-align: right;\">\n",
       "      <th></th>\n",
       "      <th>actual</th>\n",
       "      <th>predicted</th>\n",
       "    </tr>\n",
       "  </thead>\n",
       "  <tbody>\n",
       "    <tr>\n",
       "      <th>0</th>\n",
       "      <td>2</td>\n",
       "      <td>2.919510</td>\n",
       "    </tr>\n",
       "    <tr>\n",
       "      <th>1</th>\n",
       "      <td>3</td>\n",
       "      <td>3.508311</td>\n",
       "    </tr>\n",
       "    <tr>\n",
       "      <th>2</th>\n",
       "      <td>4</td>\n",
       "      <td>4.097113</td>\n",
       "    </tr>\n",
       "    <tr>\n",
       "      <th>3</th>\n",
       "      <td>6</td>\n",
       "      <td>5.274716</td>\n",
       "    </tr>\n",
       "    <tr>\n",
       "      <th>4</th>\n",
       "      <td>6</td>\n",
       "      <td>5.863517</td>\n",
       "    </tr>\n",
       "    <tr>\n",
       "      <th>5</th>\n",
       "      <td>7</td>\n",
       "      <td>6.452318</td>\n",
       "    </tr>\n",
       "    <tr>\n",
       "      <th>6</th>\n",
       "      <td>8</td>\n",
       "      <td>7.629921</td>\n",
       "    </tr>\n",
       "    <tr>\n",
       "      <th>7</th>\n",
       "      <td>10</td>\n",
       "      <td>9.985127</td>\n",
       "    </tr>\n",
       "    <tr>\n",
       "      <th>8</th>\n",
       "      <td>12</td>\n",
       "      <td>11.162730</td>\n",
       "    </tr>\n",
       "    <tr>\n",
       "      <th>9</th>\n",
       "      <td>13</td>\n",
       "      <td>14.106737</td>\n",
       "    </tr>\n",
       "  </tbody>\n",
       "</table>\n",
       "</div>"
      ],
      "text/plain": [
       "   actual  predicted\n",
       "0       2   2.919510\n",
       "1       3   3.508311\n",
       "2       4   4.097113\n",
       "3       6   5.274716\n",
       "4       6   5.863517\n",
       "5       7   6.452318\n",
       "6       8   7.629921\n",
       "7      10   9.985127\n",
       "8      12  11.162730\n",
       "9      13  14.106737"
      ]
     },
     "execution_count": 11,
     "metadata": {},
     "output_type": "execute_result"
    }
   ],
   "source": [
    "comp_data = {'actual': y, \"predicted\": pred}\n",
    "df = pd.DataFrame(comp_data)\n",
    "df"
   ]
  },
  {
   "cell_type": "markdown",
   "id": "6a7cb28f",
   "metadata": {},
   "source": [
    "5.0 Model Performance"
   ]
  },
  {
   "cell_type": "code",
   "execution_count": 15,
   "id": "a13cd354",
   "metadata": {},
   "outputs": [
    {
     "name": "stdout",
     "output_type": "stream",
     "text": [
      "Coefficient of determination: 0.97\n",
      "Mean Squared error: 0.40\n",
      "Coefficients: [0.00582972 0.05829717]\n"
     ]
    }
   ],
   "source": [
    "print(\"Coefficient of determination: %.2f\" %r2_score(y,pred))\n",
    "print(\"Mean Squared error: %.2f\" %mean_squared_error(y,pred))\n",
    "print(\"Coefficients:\", fit.coef_) # there are two coefficients since its a multiple model"
   ]
  },
  {
   "cell_type": "markdown",
   "id": "ef367be4",
   "metadata": {},
   "source": [
    "6.0 Model Visualization"
   ]
  },
  {
   "cell_type": "code",
   "execution_count": 20,
   "id": "fdcc4a33",
   "metadata": {},
   "outputs": [
    {
     "data": {
      "image/png": "[encoded data removed]",
      "text/plain": [
       "<Figure size 432x288 with 1 Axes>"
      ]
     },
     "metadata": {
      "needs_background": "light"
     },
     "output_type": "display_data"
    }
   ],
   "source": [
    "plt.scatter(x['x1'], y)\n",
    "plt.plot(x['x1'], pred, color=\"black\")\n",
    "plt.plot(x['x2'], pred, color=\"purple\")\n",
    "plt.show()"
   ]
  },
  {
   "cell_type": "code",
   "execution_count": null,
   "id": "762e0d96",
   "metadata": {},
   "outputs": [],
   "source": [
    "thanks for watching the code is on github"
   ]
  },
  {
   "cell_type": "code",
   "execution_count": null,
   "id": "f635cbcc",
   "metadata": {},
   "outputs": [],
   "source": []
  }
 ],
 "metadata": {
  "kernelspec": {
   "display_name": "Python 3 (ipykernel)",
   "language": "python",
   "name": "python3"
  },
  "language_info": {
   "codemirror_mode": {
    "name": "ipython",
    "version": 3
   },
   "file_extension": ".py",
   "mimetype": "text/x-python",
   "name": "python",
   "nbconvert_exporter": "python",
   "pygments_lexer": "ipython3",
   "version": "3.9.7"
  }
 },
 "nbformat": 4,
 "nbformat_minor": 5
}
