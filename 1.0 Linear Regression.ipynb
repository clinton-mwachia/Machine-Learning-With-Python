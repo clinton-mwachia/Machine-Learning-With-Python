{
 "cells": [
  {
   "cell_type": "markdown",
   "id": "1971ed44",
   "metadata": {},
   "source": [
    "# Introduction to Machine Learning in Python\n",
    "## 1.0 LINEAR REGRESSION."
   ]
  },
  {
   "cell_type": "code",
   "execution_count": 16,
   "id": "16b9bbc9",
   "metadata": {},
   "outputs": [],
   "source": [
    "# Loading the libraries\n",
    "from sklearn.linear_model import LinearRegression\n",
    "from sklearn.metrics import mean_squared_error, r2_score\n",
    "import matplotlib.pyplot as plt\n",
    "import numpy as np\n",
    "import pandas as pd"
   ]
  },
  {
   "cell_type": "markdown",
   "id": "5e177b4b",
   "metadata": {},
   "source": [
    "## The Data"
   ]
  },
  {
   "cell_type": "code",
   "execution_count": 6,
   "id": "6b3df410",
   "metadata": {},
   "outputs": [
    {
     "name": "stdout",
     "output_type": "stream",
     "text": [
      "[[ 1]\n",
      " [ 2]\n",
      " [ 3]\n",
      " [ 5]\n",
      " [ 6]\n",
      " [ 7]\n",
      " [ 9]\n",
      " [13]\n",
      " [15]\n",
      " [20]]\n",
      "[ 2  3  4  6  6  7  8 10 12 13]\n"
     ]
    }
   ],
   "source": [
    "X = np.array([1,2,3,5,6,7,9,13,15,20]).reshape((-1,1))\n",
    "y = np.array([2,3,4,6,6,7,8,10,12,13])\n",
    "\n",
    "print(X)\n",
    "print(y)"
   ]
  },
  {
   "cell_type": "code",
   "execution_count": 7,
   "id": "f67233e2",
   "metadata": {},
   "outputs": [],
   "source": [
    "## THE MODEL\n",
    "model = LinearRegression(normalize=True)\n",
    "\n",
    "fit = model.fit(X,y)"
   ]
  },
  {
   "cell_type": "markdown",
   "id": "ca054b85",
   "metadata": {},
   "source": [
    "## MAKING PREDICTIONS"
   ]
  },
  {
   "cell_type": "code",
   "execution_count": 8,
   "id": "1630fcb8",
   "metadata": {},
   "outputs": [
    {
     "data": {
      "text/plain": [
       "array([ 2.91951006,  3.50831146,  4.09711286,  5.27471566,  5.86351706,\n",
       "        6.45231846,  7.62992126,  9.98512686, 11.16272966, 14.10673666])"
      ]
     },
     "execution_count": 8,
     "metadata": {},
     "output_type": "execute_result"
    }
   ],
   "source": [
    "pred = fit.predict(X)\n",
    "pred"
   ]
  },
  {
   "cell_type": "code",
   "execution_count": 10,
   "id": "a15ce03a",
   "metadata": {},
   "outputs": [
    {
     "data": {
      "text/html": [
       "<div>\n",
       "<style scoped>\n",
       "    .dataframe tbody tr th:only-of-type {\n",
       "        vertical-align: middle;\n",
       "    }\n",
       "\n",
       "    .dataframe tbody tr th {\n",
       "        vertical-align: top;\n",
       "    }\n",
       "\n",
       "    .dataframe thead th {\n",
       "        text-align: right;\n",
       "    }\n",
       "</style>\n",
       "<table border=\"1\" class=\"dataframe\">\n",
       "  <thead>\n",
       "    <tr style=\"text-align: right;\">\n",
       "      <th></th>\n",
       "      <th>actual</th>\n",
       "      <th>predicted</th>\n",
       "    </tr>\n",
       "  </thead>\n",
       "  <tbody>\n",
       "    <tr>\n",
       "      <th>0</th>\n",
       "      <td>2</td>\n",
       "      <td>2.919510</td>\n",
       "    </tr>\n",
       "    <tr>\n",
       "      <th>1</th>\n",
       "      <td>3</td>\n",
       "      <td>3.508311</td>\n",
       "    </tr>\n",
       "    <tr>\n",
       "      <th>2</th>\n",
       "      <td>4</td>\n",
       "      <td>4.097113</td>\n",
       "    </tr>\n",
       "    <tr>\n",
       "      <th>3</th>\n",
       "      <td>6</td>\n",
       "      <td>5.274716</td>\n",
       "    </tr>\n",
       "    <tr>\n",
       "      <th>4</th>\n",
       "      <td>6</td>\n",
       "      <td>5.863517</td>\n",
       "    </tr>\n",
       "    <tr>\n",
       "      <th>5</th>\n",
       "      <td>7</td>\n",
       "      <td>6.452318</td>\n",
       "    </tr>\n",
       "    <tr>\n",
       "      <th>6</th>\n",
       "      <td>8</td>\n",
       "      <td>7.629921</td>\n",
       "    </tr>\n",
       "    <tr>\n",
       "      <th>7</th>\n",
       "      <td>10</td>\n",
       "      <td>9.985127</td>\n",
       "    </tr>\n",
       "    <tr>\n",
       "      <th>8</th>\n",
       "      <td>12</td>\n",
       "      <td>11.162730</td>\n",
       "    </tr>\n",
       "    <tr>\n",
       "      <th>9</th>\n",
       "      <td>13</td>\n",
       "      <td>14.106737</td>\n",
       "    </tr>\n",
       "  </tbody>\n",
       "</table>\n",
       "</div>"
      ],
      "text/plain": [
       "   actual  predicted\n",
       "0       2   2.919510\n",
       "1       3   3.508311\n",
       "2       4   4.097113\n",
       "3       6   5.274716\n",
       "4       6   5.863517\n",
       "5       7   6.452318\n",
       "6       8   7.629921\n",
       "7      10   9.985127\n",
       "8      12  11.162730\n",
       "9      13  14.106737"
      ]
     },
     "execution_count": 10,
     "metadata": {},
     "output_type": "execute_result"
    }
   ],
   "source": [
    "# predicted against true values\n",
    "data = {'actual': y, 'predicted': pred}\n",
    "df = pd.DataFrame(data=data)\n",
    "df"
   ]
  },
  {
   "cell_type": "markdown",
   "id": "acf71a5a",
   "metadata": {},
   "source": [
    "## MODEL PERFORMANCE\n",
    "### coefficient of determination"
   ]
  },
  {
   "cell_type": "code",
   "execution_count": 12,
   "id": "654a5c98",
   "metadata": {},
   "outputs": [
    {
     "name": "stdout",
     "output_type": "stream",
     "text": [
      "Coefficient of determination: 0.97\n"
     ]
    }
   ],
   "source": [
    "print('Coefficient of determination: %.2f' %r2_score(y,pred))"
   ]
  },
  {
   "cell_type": "markdown",
   "id": "9cd3fa7b",
   "metadata": {},
   "source": [
    "### Mean squared error"
   ]
  },
  {
   "cell_type": "code",
   "execution_count": 13,
   "id": "a672dfcb",
   "metadata": {},
   "outputs": [
    {
     "name": "stdout",
     "output_type": "stream",
     "text": [
      "Mean squared error: 0.40\n"
     ]
    }
   ],
   "source": [
    "print('Mean squared error: %.2f' %mean_squared_error(y,pred))"
   ]
  },
  {
   "cell_type": "markdown",
   "id": "1e43245d",
   "metadata": {},
   "source": [
    "### model coefficient"
   ]
  },
  {
   "cell_type": "code",
   "execution_count": 15,
   "id": "a990b22c",
   "metadata": {},
   "outputs": [
    {
     "name": "stdout",
     "output_type": "stream",
     "text": [
      "Coefficient: 0.59\n"
     ]
    }
   ],
   "source": [
    "print('Coefficient: %.2f' %fit.coef_)"
   ]
  },
  {
   "cell_type": "markdown",
   "id": "3f2b2c63",
   "metadata": {},
   "source": [
    "## Model Visualization"
   ]
  },
  {
   "cell_type": "code",
   "execution_count": 18,
   "id": "29455a1a",
   "metadata": {},
   "outputs": [
    {
     "data": {
      "image/png": "[encoded data removed]",
      "text/plain": [
       "<Figure size 432x288 with 1 Axes>"
      ]
     },
     "metadata": {
      "needs_background": "light"
     },
     "output_type": "display_data"
    }
   ],
   "source": [
    "plt.scatter(X,y)\n",
    "plt.plot(X,pred, color='red')\n",
    "plt.show()"
   ]
  },
  {
   "cell_type": "code",
   "execution_count": null,
   "id": "7d509cdd",
   "metadata": {},
   "outputs": [],
   "source": [
    "thanks for watching!!!"
   ]
  },
  {
   "cell_type": "code",
   "execution_count": null,
   "id": "4e6fd86f",
   "metadata": {},
   "outputs": [],
   "source": []
  },
  {
   "cell_type": "code",
   "execution_count": null,
   "id": "cbe96746",
   "metadata": {},
   "outputs": [],
   "source": []
  },
  {
   "cell_type": "code",
   "execution_count": null,
   "id": "1118c747",
   "metadata": {},
   "outputs": [],
   "source": []
  }
 ],
 "metadata": {
  "kernelspec": {
   "display_name": "Python 3 (ipykernel)",
   "language": "python",
   "name": "python3"
  },
  "language_info": {
   "codemirror_mode": {
    "name": "ipython",
    "version": 3
   },
   "file_extension": ".py",
   "mimetype": "text/x-python",
   "name": "python",
   "nbconvert_exporter": "python",
   "pygments_lexer": "ipython3",
   "version": "3.9.7"
  }
 },
 "nbformat": 4,
 "nbformat_minor": 5
}
